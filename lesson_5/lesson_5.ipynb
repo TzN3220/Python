{
 "cells": [
  {
   "cell_type": "markdown",
   "id": "0437507c",
   "metadata": {},
   "source": [
    "## exe_1\n"
   ]
  },
  {
   "cell_type": "code",
   "execution_count": 17,
   "id": "66f918dc",
   "metadata": {},
   "outputs": [
    {
     "name": "stdout",
     "output_type": "stream",
     "text": [
      "Input the start value: 2\n",
      "Input the end value: 19\n",
      "Random numbers between 2 and 19\n",
      "13\n",
      "4\n",
      "9\n",
      "8\n",
      "14\n",
      "2\n",
      "11\n",
      "3\n",
      "14\n",
      "17\n"
     ]
    }
   ],
   "source": [
    "import random\n",
    "\n",
    "def random_number_generator(start, end):\n",
    "    while True:\n",
    "        yield random.randint(start, end)\n",
    "\n",
    "# Accept input from the user\n",
    "start = int(input(\"Input the start value: \"))\n",
    "end = int(input(\"Input the end value: \"))\n",
    "\n",
    "# Create the generator object\n",
    "random_numbers = random_number_generator(start, end)\n",
    "\n",
    "# Generate and print 10 random numbers\n",
    "print(\"Random numbers between\",start,\"and\",end)\n",
    "for _ in range(10):\n",
    "    print(next(random_numbers))"
   ]
  },
  {
   "cell_type": "markdown",
   "id": "4dd65daa",
   "metadata": {},
   "source": [
    "## exe_2 "
   ]
  },
  {
   "cell_type": "code",
   "execution_count": 16,
   "id": "c00273ba",
   "metadata": {},
   "outputs": [
    {
     "name": "stdout",
     "output_type": "stream",
     "text": [
      "the cat is in the house \n"
     ]
    }
   ],
   "source": [
    "def translate(sentence):\n",
    "    s=sentence.split(' ')\n",
    "    s1=''\n",
    "    words = {'esta': 'is', 'la': 'the', 'en': 'in', 'gato': 'cat', 'casa': 'house', 'el': 'the' }\n",
    "    for i in s:\n",
    "        s1+=words[i]+\" \"\n",
    "    return s1  \n",
    "print(translate(\"el gato esta en la casa\"))"
   ]
  },
  {
   "cell_type": "markdown",
   "id": "6ddbde73",
   "metadata": {},
   "source": [
    "## exe_3"
   ]
  },
  {
   "cell_type": "code",
   "execution_count": 43,
   "id": "d4dc8e76",
   "metadata": {},
   "outputs": [
    {
     "name": "stdout",
     "output_type": "stream",
     "text": [
      "0 1 1 2 3 5 8 13 21 34 55 89 144 233 377 610 987 1597 2584 4181 6765 \n"
     ]
    }
   ],
   "source": [
    "def get_fibo():\n",
    "    x=0\n",
    "    y=1\n",
    "    s=\"\"\n",
    "    s+=str(x)+\" \"\n",
    "    for i in range(20):\n",
    "        x,y=y,x+y\n",
    "        s+=str(x)+\" \"\n",
    "    yield s    \n",
    "fibo_gen=get_fibo()\n",
    "print(next(fibo_gen))"
   ]
  },
  {
   "cell_type": "markdown",
   "id": "6049f9bb",
   "metadata": {},
   "source": [
    "## exe_4 "
   ]
  },
  {
   "cell_type": "code",
   "execution_count": 102,
   "id": "ac9a0531",
   "metadata": {},
   "outputs": [],
   "source": [
    "class Stack:\n",
    "    def __init__(self):\n",
    "        self.s = []\n",
    "        \n",
    "    def push(self, item):\n",
    "        self.s.append(item)\n",
    "\n",
    "    def pop(self):\n",
    "        if not self.is_empty():\n",
    "            return self.s.pop()\n",
    "        else:\n",
    "            return \"Cannot pop from an empty stack.\"\n",
    "\n",
    "    def is_empty(self):\n",
    "        return len(self.s) == 0\n",
    "\n",
    "    def size(self):\n",
    "        return len(self.s)\n",
    "\n"
   ]
  },
  {
   "cell_type": "code",
   "execution_count": 103,
   "id": "a1480fff",
   "metadata": {},
   "outputs": [
    {
     "name": "stdout",
     "output_type": "stream",
     "text": [
      "the size of stack: 7\n",
      "8\n",
      "5\n",
      "4\n",
      "3\n",
      "2\n"
     ]
    }
   ],
   "source": [
    "stack = Stack()\n",
    "stack.push(0)\n",
    "stack.push(1)\n",
    "stack.push(2)\n",
    "stack.push(3)\n",
    "stack.push(4)\n",
    "stack.push(5)\n",
    "stack.push(8)\n",
    "\n",
    "print(\"the size of stack:\", stack.size())\n",
    "print(stack.pop())\n",
    "print(stack.pop())\n",
    "print(stack.pop())\n",
    "print(stack.pop())\n",
    "print(stack.pop())"
   ]
  },
  {
   "cell_type": "markdown",
   "id": "26959fd3",
   "metadata": {},
   "source": [
    "## exe_5 "
   ]
  },
  {
   "cell_type": "code",
   "execution_count": 18,
   "id": "a9fdabed",
   "metadata": {},
   "outputs": [
    {
     "name": "stdout",
     "output_type": "stream",
     "text": [
      "the carat not validated\n",
      "9016\n",
      "price: $326 carat: 0.2 cat: Premium color: d clarity: VVS1 x: 7 y: 56 z: 23 table: 44\n"
     ]
    }
   ],
   "source": [
    "class Diamond:\n",
    "\n",
    "    def __init__(self,price=\"326$\",carat=0.2,cat=\"Premium\",color=\"D\",clarity=\"VS2\",x=5,y=10,z=10,table=43):\n",
    "        optionsOfCat=[\"Fair\", \"Good\", \"Very Good\", \"Premium\", \"Ideal\"]\n",
    "        optionsClarity=[\"I1\", \"SI2\",\"SI2\", \"SI1\", \"VS2\", \"VS1\",\"VVS2\", \"VVS1\", \"IF\"]\n",
    "        if(price[0]=='$' and int(price[1::])>=326 and int(price[1::])<= 18823):\n",
    "            self.price=price\n",
    "        else:\n",
    "            self.price=\"326$\"\n",
    "            print(\"the price not validated\")\n",
    "        if carat>=0.2 and carat<=5.01:\n",
    "            self.carat=carat \n",
    "        else:\n",
    "            self.carat=0.2\n",
    "            print(\"the carat not validated\")\n",
    "        if cat in optionsOfCat:\n",
    "            self.cat=cat\n",
    "        else:\n",
    "            self.cat=\"Premium\"\n",
    "            print(\"the optionsOfCat not validated\")\n",
    "        self.color=color    \n",
    "        if clarity in optionsClarity:\n",
    "            self.clarity=clarity\n",
    "        else:\n",
    "            print(\"the clarity not validated\")\n",
    "        if x>=0 and x<=10.74:\n",
    "            self.x=x\n",
    "        else:\n",
    "            self.x=0\n",
    "            print()\n",
    "        if y>=0 and y<=58.9:\n",
    "            self.y=y\n",
    "        else:\n",
    "            self.y=0\n",
    "            print()\n",
    "        if z>=0 and z<=31.8:\n",
    "            self.z=z\n",
    "        else:\n",
    "            self.z=0\n",
    "            print()\n",
    "        if table>=43 and table<=95:\n",
    "            self.table=table\n",
    "        else:\n",
    "            self.table=43\n",
    "            print()\n",
    "    def calculateVolume(self):\n",
    "        return self.x*self.y*self.z\n",
    "    def displayInfo(self):\n",
    "        print(\"price: {0} carat: {1} cat: {2} color: {3} clarity: {4} x: {5} y: {6} z: {7} table: {8}\"\n",
    "              .format(self.price,self.carat,self.cat,self.color,self.clarity,self.x,self.y,self.z,self.table))\n",
    "d = Diamond(\"$326\",0.1,\"Premium\",\"d\",\"VVS1\",7,56,23,44) \n",
    "print(d.calculateVolume())\n",
    "d.displayInfo()"
   ]
  },
  {
   "cell_type": "code",
   "execution_count": null,
   "id": "a22df4e5",
   "metadata": {},
   "outputs": [],
   "source": []
  },
  {
   "cell_type": "code",
   "execution_count": null,
   "id": "7ba4a0f8",
   "metadata": {},
   "outputs": [],
   "source": []
  }
 ],
 "metadata": {
  "kernelspec": {
   "display_name": "Python 3 (ipykernel)",
   "language": "python",
   "name": "python3"
  },
  "language_info": {
   "codemirror_mode": {
    "name": "ipython",
    "version": 3
   },
   "file_extension": ".py",
   "mimetype": "text/x-python",
   "name": "python",
   "nbconvert_exporter": "python",
   "pygments_lexer": "ipython3",
   "version": "3.11.5"
  }
 },
 "nbformat": 4,
 "nbformat_minor": 5
}
