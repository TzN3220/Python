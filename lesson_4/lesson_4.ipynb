{
 "cells": [
  {
   "cell_type": "markdown",
   "id": "a23c5c0c",
   "metadata": {},
   "source": [
    "## exe_1 "
   ]
  },
  {
   "cell_type": "code",
   "execution_count": 181,
   "id": "56e5ddca",
   "metadata": {
    "scrolled": true
   },
   "outputs": [
    {
     "name": "stdout",
     "output_type": "stream",
     "text": [
      "[{'make': 'Nokia', 'model': 216, 'color': 'Black'}, {'make': 'Samsung', 'model': 7, 'color': 'Blue'}, {'make': 'Mi Max', 'model': '2', 'color': 'Gold'}]\n"
     ]
    }
   ],
   "source": [
    "def c(element):\n",
    "    return element[\"color\"]\n",
    "l=[{'make': 'Nokia', 'model': 216, 'color': 'Black'}, {'make': 'Mi Max', 'model': '2',\n",
    "'color': 'Gold'}, {'make': 'Samsung', 'model': 7, 'color': 'Blue'}]  \n",
    "l.sort(key=c)    \n",
    "print(l)"
   ]
  },
  {
   "cell_type": "markdown",
   "id": "3a48103e",
   "metadata": {},
   "source": [
    "## exe_2"
   ]
  },
  {
   "cell_type": "code",
   "execution_count": null,
   "id": "d05cc427",
   "metadata": {
    "scrolled": false
   },
   "outputs": [],
   "source": [
    "def multi(x):\n",
    "    return lambda a:a*x\n",
    "m=multi(2)\n",
    "print(\"double the number of 15=\",m(15))\n",
    "m=multi(3)\n",
    "print(\"triple the number of 15=\",m(15))\n",
    "def func(x)\n"
   ]
  },
  {
   "cell_type": "markdown",
   "id": "263c117a",
   "metadata": {},
   "source": [
    "## exe_3 "
   ]
  },
  {
   "cell_type": "code",
   "execution_count": 102,
   "id": "1a564896",
   "metadata": {},
   "outputs": [
    {
     "name": "stdout",
     "output_type": "stream",
     "text": [
      "[1, 2, 8, 9]\n"
     ]
    }
   ],
   "source": [
    "l1=[1, 2, 3, 5, 7, 8, 9, 10]\n",
    "l2=[1, 2, 4, 8, 9]\n",
    "newl=list(filter(lambda i: i in l2,l1))\n",
    "print(newl)"
   ]
  },
  {
   "cell_type": "markdown",
   "id": "1d3b1e50",
   "metadata": {},
   "source": [
    "## exe_4 "
   ]
  },
  {
   "cell_type": "code",
   "execution_count": 126,
   "id": "dd6f1b36",
   "metadata": {},
   "outputs": [
    {
     "name": "stdout",
     "output_type": "stream",
     "text": [
      "48\n",
      "-32\n"
     ]
    }
   ],
   "source": [
    "import functools\n",
    "list1=[2, 4, -6, -9, 11, -12, 14, -5, 17]\n",
    "def add(x,y):\n",
    "    return x+y\n",
    "s=filter(lambda x:x>0,list1)\n",
    "sum=functools.reduce(add,list(s))\n",
    "s1=filter(lambda x:x<0,list1)\n",
    "sum1=functools.reduce(add,list(s1))\n",
    "print(sum)\n",
    "print(sum1)"
   ]
  },
  {
   "cell_type": "markdown",
   "id": "eec21adc",
   "metadata": {},
   "source": [
    "## exe_5 "
   ]
  },
  {
   "cell_type": "code",
   "execution_count": 178,
   "id": "e1646be7",
   "metadata": {
    "scrolled": true
   },
   "outputs": [
    {
     "name": "stdout",
     "output_type": "stream",
     "text": [
      "{('B', 'b'), ('A', 'a'), ('O', 'o'), ('E', 'e'), ('I', 'i'), ('U', 'u'), ('F', 'f')}\n"
     ]
    }
   ],
   "source": [
    "l={'f', 'b', 'U', 'i', 'o', 'E', 'a'}\n",
    "def change(c):\n",
    "    return c.upper(),c.lower()\n",
    "newl=set(map(change,l))\n",
    "print(newl)"
   ]
  },
  {
   "cell_type": "markdown",
   "id": "1d612687",
   "metadata": {},
   "source": [
    "## exe_6"
   ]
  },
  {
   "cell_type": "code",
   "execution_count": 145,
   "id": "6fad8206",
   "metadata": {},
   "outputs": [
    {
     "name": "stdout",
     "output_type": "stream",
     "text": [
      "[7, 14, 21, 28, 35, 42, 49, 56, 63, 70, 77, 84, 91, 98, 105, 112, 119, 126, 133, 140, 147, 154, 161, 168, 175, 182, 189, 196, 203, 210, 217, 224, 231, 238, 245, 252, 259, 266, 273, 280, 287, 294, 301, 308, 315, 322, 329, 336, 343, 350, 357, 364, 371, 378, 385, 392, 399, 406, 413, 420, 427, 434, 441, 448, 455, 462, 469, 476, 483, 490, 497, 504, 511, 518, 525, 532, 539, 546, 553, 560, 567, 574, 581, 588, 595, 602, 609, 616, 623, 630, 637, 644, 651, 658, 665, 672, 679, 686, 693, 700, 707, 714, 721, 728, 735, 742, 749, 756, 763, 770, 777, 784, 791, 798, 805, 812, 819, 826, 833, 840, 847, 854, 861, 868, 875, 882, 889, 896, 903, 910, 917, 924, 931, 938, 945, 952, 959, 966, 973, 980, 987, 994]\n"
     ]
    }
   ],
   "source": [
    "x=filter(lambda x:x%7==0,range(1,1000))\n",
    "print(list(x))"
   ]
  },
  {
   "cell_type": "markdown",
   "id": "44852fa8",
   "metadata": {},
   "source": [
    "## exe_7 "
   ]
  },
  {
   "cell_type": "code",
   "execution_count": 166,
   "id": "f88a589e",
   "metadata": {
    "scrolled": true
   },
   "outputs": [
    {
     "name": "stdout",
     "output_type": "stream",
     "text": [
      "[3, 13, 23, 30, 31, 32, 33, 34, 35, 36, 37, 38, 39, 43, 53, 63, 73, 83, 93, 103, 113, 123, 130, 131, 132, 133, 134, 135, 136, 137, 138, 139, 143, 153, 163, 173, 183, 193, 203, 213, 223, 230, 231, 232, 233, 234, 235, 236, 237, 238, 239, 243, 253, 263, 273, 283, 293, 300, 301, 302, 303, 304, 305, 306, 307, 308, 309, 310, 311, 312, 313, 314, 315, 316, 317, 318, 319, 320, 321, 322, 323, 324, 325, 326, 327, 328, 329, 330, 331, 332, 333, 334, 335, 336, 337, 338, 339, 340, 341, 342, 343, 344, 345, 346, 347, 348, 349, 350, 351, 352, 353, 354, 355, 356, 357, 358, 359, 360, 361, 362, 363, 364, 365, 366, 367, 368, 369, 370, 371, 372, 373, 374, 375, 376, 377, 378, 379, 380, 381, 382, 383, 384, 385, 386, 387, 388, 389, 390, 391, 392, 393, 394, 395, 396, 397, 398, 399, 403, 413, 423, 430, 431, 432, 433, 434, 435, 436, 437, 438, 439, 443, 453, 463, 473, 483, 493, 503, 513, 523, 530, 531, 532, 533, 534, 535, 536, 537, 538, 539, 543, 553, 563, 573, 583, 593, 603, 613, 623, 630, 631, 632, 633, 634, 635, 636, 637, 638, 639, 643, 653, 663, 673, 683, 693, 703, 713, 723, 730, 731, 732, 733, 734, 735, 736, 737, 738, 739, 743, 753, 763, 773, 783, 793, 803, 813, 823, 830, 831, 832, 833, 834, 835, 836, 837, 838, 839, 843, 853, 863, 873, 883, 893, 903, 913, 923, 930, 931, 932, 933, 934, 935, 936, 937, 938, 939, 943, 953, 963, 973, 983, 993]\n"
     ]
    }
   ],
   "source": [
    "x=[i for i in range(1,1000) if '3' in str(i)]\n",
    "print(x)   "
   ]
  },
  {
   "cell_type": "markdown",
   "id": "00969945",
   "metadata": {},
   "source": [
    "## exe_8 "
   ]
  },
  {
   "cell_type": "code",
   "execution_count": 176,
   "id": "0100f421",
   "metadata": {},
   "outputs": [
    {
     "name": "stdout",
     "output_type": "stream",
     "text": [
      "[2, 3, 4, 5, 6, 7, 8, 9, 10, 12, 14, 15, 16, 18, 20, 21, 22, 24, 25, 26, 27, 28, 30, 32, 33, 34, 35, 36, 38, 39, 40, 42, 44, 45, 46, 48, 49, 50, 51, 52, 54, 55, 56, 57, 58, 60, 62, 63, 64, 65, 66, 68, 69, 70, 72, 74, 75, 76, 77, 78, 80, 81, 82, 84, 85, 86, 87, 88, 90, 91, 92, 93, 94, 95, 96, 98, 99, 100, 102, 104, 105, 106, 108, 110, 111, 112, 114, 115, 116, 117, 118, 119, 120, 122, 123, 124, 125, 126, 128, 129, 130, 132, 133, 134, 135, 136, 138, 140, 141, 142, 144, 145, 146, 147, 148, 150, 152, 153, 154, 155, 156, 158, 159, 160, 161, 162, 164, 165, 166, 168, 170, 171, 172, 174, 175, 176, 177, 178, 180, 182, 183, 184, 185, 186, 188, 189, 190, 192, 194, 195, 196, 198, 200, 201, 202, 203, 204, 205, 206, 207, 208, 210, 212, 213, 214, 215, 216, 217, 218, 219, 220, 222, 224, 225, 226, 228, 230, 231, 232, 234, 235, 236, 237, 238, 240, 242, 243, 244, 245, 246, 248, 249, 250, 252, 254, 255, 256, 258, 259, 260, 261, 262, 264, 265, 266, 267, 268, 270, 272, 273, 274, 275, 276, 278, 279, 280, 282, 284, 285, 286, 287, 288, 290, 291, 292, 294, 295, 296, 297, 298, 300, 301, 302, 303, 304, 305, 306, 308, 309, 310, 312, 314, 315, 316, 318, 320, 321, 322, 324, 325, 326, 327, 328, 329, 330, 332, 333, 334, 335, 336, 338, 339, 340, 342, 343, 344, 345, 346, 348, 350, 351, 352, 354, 355, 356, 357, 358, 360, 362, 363, 364, 365, 366, 368, 369, 370, 371, 372, 374, 375, 376, 378, 380, 381, 382, 384, 385, 386, 387, 388, 390, 392, 393, 394, 395, 396, 398, 399, 400, 402, 404, 405, 406, 408, 410, 411, 412, 413, 414, 415, 416, 417, 418, 420, 422, 423, 424, 425, 426, 427, 428, 429, 430, 432, 434, 435, 436, 438, 440, 441, 442, 444, 445, 446, 447, 448, 450, 452, 453, 454, 455, 456, 458, 459, 460, 462, 464, 465, 466, 468, 469, 470, 471, 472, 474, 475, 476, 477, 478, 480, 482, 483, 484, 485, 486, 488, 489, 490, 492, 494, 495, 496, 497, 498, 500, 501, 502, 504, 505, 506, 507, 508, 510, 511, 512, 513, 514, 515, 516, 518, 519, 520, 522, 524, 525, 526, 528, 530, 531, 532, 534, 535, 536, 537, 538, 539, 540, 542, 543, 544, 545, 546, 548, 549, 550, 552, 553, 554, 555, 556, 558, 560, 561, 562, 564, 565, 566, 567, 568, 570, 572, 573, 574, 575, 576, 578, 579, 580, 581, 582, 584, 585, 586, 588, 590, 591, 592, 594, 595, 596, 597, 598, 600, 602, 603, 604, 605, 606, 608, 609, 610, 612, 614, 615, 616, 618, 620, 621, 622, 623, 624, 625, 626, 627, 628, 630, 632, 633, 634, 635, 636, 637, 638, 639, 640, 642, 644, 645, 646, 648, 650, 651, 652, 654, 655, 656, 657, 658, 660, 662, 663, 664, 665, 666, 668, 669, 670, 672, 674, 675, 676, 678, 679, 680, 681, 682, 684, 685, 686, 687, 688, 690, 692, 693, 694, 695, 696, 698, 699, 700, 702, 704, 705, 706, 707, 708, 710, 711, 712, 714, 715, 716, 717, 718, 720, 721, 722, 723, 724, 725, 726, 728, 729, 730, 732, 734, 735, 736, 738, 740, 741, 742, 744, 745, 746, 747, 748, 749, 750, 752, 753, 754, 755, 756, 758, 759, 760, 762, 763, 764, 765, 766, 768, 770, 771, 772, 774, 775, 776, 777, 778, 780, 782, 783, 784, 785, 786, 788, 789, 790, 791, 792, 794, 795, 796, 798, 800, 801, 802, 804, 805, 806, 807, 808, 810, 812, 813, 814, 815, 816, 818, 819, 820, 822, 824, 825, 826, 828, 830, 831, 832, 833, 834, 835, 836, 837, 838, 840, 842, 843, 844, 845, 846, 847, 848, 849, 850, 852, 854, 855, 856, 858, 860, 861, 862, 864, 865, 866, 867, 868, 870, 872, 873, 874, 875, 876, 878, 879, 880, 882, 884, 885, 886, 888, 889, 890, 891, 892, 894, 895, 896, 897, 898, 900, 902, 903, 904, 905, 906, 908, 909, 910, 912, 914, 915, 916, 917, 918, 920, 921, 922, 924, 925, 926, 927, 928, 930, 931, 932, 933, 934, 935, 936, 938, 939, 940, 942, 944, 945, 946, 948, 950, 951, 952, 954, 955, 956, 957, 958, 959, 960, 962, 963, 964, 965, 966, 968, 969, 970, 972, 973, 974, 975, 976, 978, 980, 981, 982, 984, 985, 986, 987, 988, 990, 992, 993, 994, 995, 996, 998, 999]\n"
     ]
    }
   ],
   "source": [
    "n=[i for i in range(1,1000) if True in [True for j in range(2,9) if i%j==0]]\n",
    "print(n)"
   ]
  },
  {
   "cell_type": "code",
   "execution_count": 233,
   "id": "7f26d7f0",
   "metadata": {},
   "outputs": [
    {
     "name": "stdout",
     "output_type": "stream",
     "text": [
      "['3', '+', '5']\n",
      "['9', '*', '2']\n",
      "['2', '/', '6']\n",
      "['4', '-', '8']\n",
      "['3', '*', '9']\n",
      "[]\n"
     ]
    }
   ],
   "source": [
    "import string\n",
    "import os\n",
    "fileh= open(\"homework.txt\",\"r\")\n",
    "with open(\"solution.txt\", 'w') as files:\n",
    "    files.write(\" \")\n",
    "exe=fileh.readline()\n",
    "exe=exe.split()\n",
    "exe.reverse() \n",
    "print(exe)\n",
    "while(exe!=[]):\n",
    "    if exe[0].isdigit() and exe[2].isdigit():\n",
    "        num1=(int)(exe[0])\n",
    "        num2=(int)(exe[2])\n",
    "        operator=exe[1]\n",
    "        if operator==\"+\":\n",
    "            exe.append((str)(num1+num2)+\"=\")\n",
    "            exe.reverse()\n",
    "            with open(\"solution.txt\", 'w') as files:\n",
    "                files.write(\" \".join(exe)+\"\\n\")    \n",
    "#                 files.write()\n",
    "        if operator==\"-\":\n",
    "#             if num1-num2 < 0:\n",
    "            exe.append((str)(num1-num2)+\"=\")\n",
    "            exe.reverse()\n",
    "            with open(\"solution.txt\", 'w') as files:\n",
    "                files.write(\" \".join(exe)+'\\n')  \n",
    "        if operator==\"/\":      \n",
    "            exe.append((str)(num1/num2)+\"=\")\n",
    "            exe.reverse()\n",
    "            with open(\"solution.txt\", 'w') as files:\n",
    "                files.write(\" \".join(exe)+'\\n')\n",
    "        if operator==\"*\":      \n",
    "            exe.append((str)(num1*num2)+\"=\")\n",
    "            exe.reverse()\n",
    "            with open(\"solution.txt\", 'w') as files:\n",
    "                files.write(\" \".join(exe)+\"\\n\")   \n",
    "        exe=fileh.readline()\n",
    "        exe=exe.split()\n",
    "        exe.reverse() \n",
    "        print(exe)\n",
    "#         close(\"homework.txt\",\"r\")                \n",
    "                "
   ]
  },
  {
   "cell_type": "code",
   "execution_count": 240,
   "id": "ce1c29a7",
   "metadata": {},
   "outputs": [],
   "source": [
    "import string\n",
    "import os\n",
    "hwFile = open(\"homework.txt\",\"r\")\n",
    "with open(\"solution.txt\", 'w') as file:\n",
    "    file.write(\" \")\n",
    "exe=hwFile.readline()\n",
    "exe=exe.split()\n",
    "exe.reverse() \n",
    "while(exe!=[]):\n",
    "    if len(exe)==3:\n",
    "        if exe[0].isdigit() and exe[2].isdigit():\n",
    "            num1=(int)(exe[0])\n",
    "            num2=(int)(exe[2])\n",
    "            operator=exe[1]\n",
    "            exe.append('=')\n",
    "            if operator == \"+\":\n",
    "                exe.append((str)(num1+num2))\n",
    "                exe.reverse() \n",
    "                \n",
    "                with open(\"solution.txt\", 'a') as file:\n",
    "                    file.write(\" \".join(exe)+\"\\n\")\n",
    "            elif operator == '-':\n",
    "                if num1-num2 < 0:\n",
    "                    exe.append(\"-\")\n",
    "                    exe.append(str(abs(num1-num2)))\n",
    "                else:\n",
    "                    exe.append((str)(num1-num2))\n",
    "                exe.reverse() \n",
    "                with open(\"solution.txt\", 'a') as file:\n",
    "                    file.write(\" \".join(exe)+\"\\n\")\n",
    "            elif operator == '*':\n",
    "                if num1*num2 < 0:\n",
    "                    exe.append(\"-\")\n",
    "                    exe.append(str(abs(num1*num2)))\n",
    "                else:\n",
    "                    exe.append((str)(num1*num2))\n",
    "                exe.reverse() \n",
    "                with open(\"solution.txt\", 'a') as file:\n",
    "                    file.write(\" \".join(exe)+\"\\n\")\n",
    "            elif operator == '/':\n",
    "                if num2==0:\n",
    "                    with open(\"solution.txt\", 'a') as file:\n",
    "                        file.write(\"divided by zero\\n\")\n",
    "                else:   \n",
    "                    line.append((str)(num1/num2))\n",
    "                    line.reverse() \n",
    "                    with open(\"solution.txt\", 'a') as file:\n",
    "                        file.write(\" \".join(exe)+\"\\n\")\n",
    "            else:\n",
    "                with open(\"solution.txt\", 'a') as file:\n",
    "                    file.write(\"error! Invalid operator\\n\")\n",
    "                   \n",
    "        else:\n",
    "             with open(\"solution.txt\", 'a') as file:\n",
    "                    file.write(\"Invalid parameter\\n\")\n",
    "        with open(\"solution.txt\", 'a') as file:\n",
    "                    file.write(\"good\\n\")   \n",
    "    else:\n",
    "        with open(\"solution.txt\", 'a') as file:\n",
    "                    file.write(\"you are missing somthing---\\n\")\n",
    "    exe=hwFile.readline()\n",
    "    exe=exe.split()\n",
    "    exe.reverse()              "
   ]
  },
  {
   "cell_type": "code",
   "execution_count": null,
   "id": "b12820d8",
   "metadata": {},
   "outputs": [],
   "source": []
  },
  {
   "cell_type": "code",
   "execution_count": null,
   "id": "42175479",
   "metadata": {},
   "outputs": [],
   "source": []
  }
 ],
 "metadata": {
  "kernelspec": {
   "display_name": "Python 3 (ipykernel)",
   "language": "python",
   "name": "python3"
  },
  "language_info": {
   "codemirror_mode": {
    "name": "ipython",
    "version": 3
   },
   "file_extension": ".py",
   "mimetype": "text/x-python",
   "name": "python",
   "nbconvert_exporter": "python",
   "pygments_lexer": "ipython3",
   "version": "3.11.5"
  }
 },
 "nbformat": 4,
 "nbformat_minor": 5
}
