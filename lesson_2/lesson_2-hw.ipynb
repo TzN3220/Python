{
 "cells": [
  {
   "cell_type": "markdown",
   "id": "1d62b686",
   "metadata": {},
   "source": [
    "# exe_1\n"
   ]
  },
  {
   "cell_type": "code",
   "execution_count": 9,
   "id": "0763c610",
   "metadata": {
    "scrolled": true
   },
   "outputs": [
    {
     "name": "stdout",
     "output_type": "stream",
     "text": [
      "insert string:good day\n"
     ]
    }
   ],
   "source": [
    "x =input(\"insert string:\")"
   ]
  },
  {
   "cell_type": "code",
   "execution_count": 10,
   "id": "31e7e057",
   "metadata": {},
   "outputs": [
    {
     "name": "stdout",
     "output_type": "stream",
     "text": [
      "od day\n"
     ]
    }
   ],
   "source": [
    "print(x[-6:len(x):])"
   ]
  },
  {
   "cell_type": "code",
   "execution_count": 11,
   "id": "4a2d56f1",
   "metadata": {},
   "outputs": [
    {
     "name": "stdout",
     "output_type": "stream",
     "text": [
      "good day\n"
     ]
    }
   ],
   "source": [
    "print(x[:8:])"
   ]
  },
  {
   "cell_type": "code",
   "execution_count": 12,
   "id": "79173754",
   "metadata": {},
   "outputs": [
    {
     "name": "stdout",
     "output_type": "stream",
     "text": [
      "gda\n"
     ]
    }
   ],
   "source": [
    "print(x[::3])"
   ]
  },
  {
   "cell_type": "code",
   "execution_count": null,
   "id": "bad12a08",
   "metadata": {},
   "outputs": [],
   "source": [
    "print(x[:round(len(x)/4):])"
   ]
  },
  {
   "cell_type": "code",
   "execution_count": null,
   "id": "4d437d55",
   "metadata": {},
   "outputs": [],
   "source": [
    "print(x.upper())"
   ]
  },
  {
   "cell_type": "code",
   "execution_count": null,
   "id": "751d24ef",
   "metadata": {},
   "outputs": [],
   "source": [
    "str=\"\"\n",
    "for i in x:\n",
    "    str=i+str\n",
    "print(str)  "
   ]
  },
  {
   "cell_type": "markdown",
   "id": "e4a28e34",
   "metadata": {},
   "source": [
    "## exe_2\n"
   ]
  },
  {
   "cell_type": "code",
   "execution_count": 32,
   "id": "247707b4",
   "metadata": {},
   "outputs": [
    {
     "name": "stdout",
     "output_type": "stream",
     "text": [
      "{'g': 2, 'o': 3, 'l': 1, 'e': 1, '.': 1, 'c': 1, 'm': 1}\n"
     ]
    }
   ],
   "source": [
    "st=\"google.com\"\n",
    "mydict={}\n",
    "for i in st:\n",
    "    mydict[i]=st.count(i)\n",
    "print(mydict) "
   ]
  },
  {
   "cell_type": "markdown",
   "id": "247d4120",
   "metadata": {},
   "source": [
    "## exe_3"
   ]
  },
  {
   "cell_type": "code",
   "execution_count": null,
   "id": "f2a098da",
   "metadata": {},
   "outputs": [],
   "source": [
    "if len(x)>2:\n",
    " s=x[:2:]+x[-2::]\n",
    "else:\n",
    " s=\" \"\n",
    "print(s)"
   ]
  },
  {
   "cell_type": "markdown",
   "id": "6e7440fa",
   "metadata": {},
   "source": [
    "## exe_4\n"
   ]
  },
  {
   "cell_type": "code",
   "execution_count": 14,
   "id": "fa8e5e81",
   "metadata": {
    "scrolled": true
   },
   "outputs": [
    {
     "name": "stdout",
     "output_type": "stream",
     "text": [
      "d d\n"
     ]
    }
   ],
   "source": [
    "str=x[:1:]+x[round(len(x)/2):round(len(x)/2)+1:]+x[len(x)-1::]\n",
    "s=x[round(len(x)/2)-1:round(len(x)/2):]+x[round(len(x)/2):round(len(x)/2)+1:]+x[round(len(x)/2)+1:round(len(x)/2)+2:]\n",
    "print(s)"
   ]
  },
  {
   "cell_type": "markdown",
   "id": "f1cfae3e",
   "metadata": {},
   "source": [
    "## exe_5"
   ]
  },
  {
   "cell_type": "code",
   "execution_count": 34,
   "id": "2e823baf",
   "metadata": {},
   "outputs": [
    {
     "name": "stdout",
     "output_type": "stream",
     "text": [
      "['2', '22', '222', '2222', '22222']\n",
      "24690\n"
     ]
    }
   ],
   "source": [
    "j=\"2\"\n",
    "li=[j]\n",
    "sum=0\n",
    "for v in range(2,6,1):\n",
    "    li.append(j*v)\n",
    "print(li)\n",
    "for v in li:\n",
    "    sum +=(int)(v)\n",
    "print(sum) "
   ]
  },
  {
   "cell_type": "markdown",
   "id": "7295b48c",
   "metadata": {},
   "source": [
    "## exe_6"
   ]
  },
  {
   "cell_type": "code",
   "execution_count": 26,
   "id": "3fd58397",
   "metadata": {
    "scrolled": true
   },
   "outputs": [
    {
     "name": "stdout",
     "output_type": "stream",
     "text": [
      "['Red', 'Green', 'White', 'Black', 'Pink', 'Yellow']\n"
     ]
    }
   ],
   "source": [
    "List1 =['Red', 'Green', 'White', 'Black', 'Pink', 'Yellow']\n",
    "print(List1)"
   ]
  },
  {
   "cell_type": "code",
   "execution_count": 29,
   "id": "16552c79",
   "metadata": {},
   "outputs": [
    {
     "name": "stdout",
     "output_type": "stream",
     "text": [
      "['Green', 'White', 'Black']\n"
     ]
    }
   ],
   "source": [
    "List1[4:6:]=[]\n",
    "List1[0:1:]=[]\n",
    "print(List1)"
   ]
  },
  {
   "cell_type": "markdown",
   "id": "8b5a0b39",
   "metadata": {},
   "source": [
    "## exe_7\n",
    "\n"
   ]
  },
  {
   "cell_type": "code",
   "execution_count": 3,
   "id": "10e00e28",
   "metadata": {},
   "outputs": [
    {
     "name": "stdout",
     "output_type": "stream",
     "text": [
      "['apple', 'orange', 'watermelon', 'banana', 'mango']\n"
     ]
    }
   ],
   "source": [
    "furit=['apple','orange','kiwi','watermelon','banana','mango']\n",
    "newlist=[]\n",
    "for v in furit:\n",
    "    if('a' in v):\n",
    "        newlist.append(v)\n",
    "print(newlist)        "
   ]
  },
  {
   "cell_type": "markdown",
   "id": "71eabf07",
   "metadata": {},
   "source": [
    "## exe_8"
   ]
  },
  {
   "cell_type": "code",
   "execution_count": 31,
   "id": "5615018e",
   "metadata": {},
   "outputs": [
    {
     "name": "stdout",
     "output_type": "stream",
     "text": [
      "[6, 12, 18, 4, 12, 20, 28]\n"
     ]
    }
   ],
   "source": [
    "l1 = [3, 6, 9, 12, 15, 18, 21]\n",
    "l2 = [4, 8, 12, 16, 20, 24, 28]\n",
    "l3 =l1[1::2]+l2[::2]\n",
    "print(l3)"
   ]
  },
  {
   "cell_type": "markdown",
   "id": "3cb5b38e",
   "metadata": {},
   "source": [
    "## exe_9 "
   ]
  },
  {
   "cell_type": "code",
   "execution_count": 43,
   "id": "1820aba3",
   "metadata": {},
   "outputs": [
    {
     "name": "stdout",
     "output_type": "stream",
     "text": [
      "0\n",
      "1\n",
      "1\n",
      "2\n",
      "3\n",
      "5\n",
      "8\n",
      "13\n",
      "21\n",
      "34\n"
     ]
    }
   ],
   "source": [
    "d={0:0,1:1}\n",
    "for i in range(2,10,1):\n",
    "    x=d[i-1]+d[i-2]\n",
    "    d.update({i:x})\n",
    "for i in range(0,10,1):\n",
    "    print(d[i])"
   ]
  },
  {
   "cell_type": "markdown",
   "id": "24a5a66a",
   "metadata": {},
   "source": [
    "## exe_10"
   ]
  },
  {
   "cell_type": "code",
   "execution_count": 33,
   "id": "56ed4a68",
   "metadata": {},
   "outputs": [
    {
     "name": "stdout",
     "output_type": "stream",
     "text": [
      "{0: 0, 1: 1, 2: 4, 3: 9, 4: 16, 5: 25, 6: 36, 7: 49, 8: 64, 9: 81, 10: 100, 11: 121, 12: 144, 13: 169, 14: 196, 15: 225}\n"
     ]
    }
   ],
   "source": [
    "md={}\n",
    "for i in range(16):\n",
    "    md[i]=i*i\n",
    "print(md)"
   ]
  }
 ],
 "metadata": {
  "kernelspec": {
   "display_name": "Python 3 (ipykernel)",
   "language": "python",
   "name": "python3"
  },
  "language_info": {
   "codemirror_mode": {
    "name": "ipython",
    "version": 3
   },
   "file_extension": ".py",
   "mimetype": "text/x-python",
   "name": "python",
   "nbconvert_exporter": "python",
   "pygments_lexer": "ipython3",
   "version": "3.11.5"
  }
 },
 "nbformat": 4,
 "nbformat_minor": 5
}
