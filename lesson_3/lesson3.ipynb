{
 "cells": [
  {
   "cell_type": "markdown",
   "id": "08913cac",
   "metadata": {},
   "source": [
    "##exe1"
   ]
  },
  {
   "cell_type": "code",
   "execution_count": 6,
   "id": "3258e45f",
   "metadata": {},
   "outputs": [
    {
     "name": "stdout",
     "output_type": "stream",
     "text": [
      "True\n",
      "False\n"
     ]
    }
   ],
   "source": [
    "def inRange(start,end, x):\n",
    "    return (start<=x<end)\n",
    "print(inRange(2,10,5))\n",
    "print(inRange(12,10,5))"
   ]
  },
  {
   "cell_type": "markdown",
   "id": "d924759e",
   "metadata": {},
   "source": [
    "##exe2"
   ]
  },
  {
   "cell_type": "code",
   "execution_count": 5,
   "id": "5ce1737f",
   "metadata": {},
   "outputs": [
    {
     "name": "stdout",
     "output_type": "stream",
     "text": [
      "The quick Brow Fox\n",
      "Upper: 3\n",
      "Lower: 12\n"
     ]
    }
   ],
   "source": [
    "def str_count(st):\n",
    "    countU=0\n",
    "    countL=0\n",
    "    for s in st:\n",
    "        if s.isupper():\n",
    "            countU+=1\n",
    "        elif s.islower():\n",
    "            countL+=1\n",
    "    print(st)\n",
    "    print(\"Upper:\",countU)\n",
    "    print(\"Lower:\",countL)\n",
    "str_count(\"The quick Brow Fox\")"
   ]
  },
  {
   "cell_type": "markdown",
   "id": "5595d721",
   "metadata": {},
   "source": [
    "##exe3"
   ]
  },
  {
   "cell_type": "code",
   "execution_count": 10,
   "id": "60caf7f1",
   "metadata": {},
   "outputs": [
    {
     "name": "stdout",
     "output_type": "stream",
     "text": [
      "[2, 4, 6, 8]\n"
     ]
    }
   ],
   "source": [
    "def print_even(list):\n",
    "    even=[]\n",
    "    for l in list:\n",
    "        if l%2==0:\n",
    "            even.append(l)\n",
    "    print(even)\n",
    "print_even([1, 2, 3, 4, 5, 6, 7, 8, 9])"
   ]
  },
  {
   "cell_type": "markdown",
   "id": "361aa932",
   "metadata": {},
   "source": [
    "##exe4"
   ]
  },
  {
   "cell_type": "code",
   "execution_count": 15,
   "id": "04fac927",
   "metadata": {},
   "outputs": [
    {
     "name": "stdout",
     "output_type": "stream",
     "text": [
      "5.5\n"
     ]
    }
   ],
   "source": [
    "def avg(*list):\n",
    "    sum=0\n",
    "    count=0\n",
    "    for l in list:\n",
    "        sum+=l\n",
    "        count+=1\n",
    "    return (sum/count)\n",
    "print(avg(1, 2, 3, 4, 5, 6, 7, 8, 9,10))"
   ]
  },
  {
   "cell_type": "markdown",
   "id": "a6002049",
   "metadata": {},
   "source": [
    "##exe5"
   ]
  },
  {
   "cell_type": "code",
   "execution_count": 19,
   "id": "ca5af782",
   "metadata": {},
   "outputs": [
    {
     "name": "stdout",
     "output_type": "stream",
     "text": [
      "True\n",
      "False\n"
     ]
    }
   ],
   "source": [
    "def polindrom(st):\n",
    "    l=0\n",
    "    r=len(st)-1\n",
    "    while l<r:\n",
    "        if st[l]!=st[r]:\n",
    "            return False\n",
    "        l+=1\n",
    "        r-=1\n",
    "    return True\n",
    "print(polindrom(\"madam\"))\n",
    "print(polindrom(\"mister\"))"
   ]
  },
  {
   "cell_type": "markdown",
   "id": "ca298ae9",
   "metadata": {},
   "source": [
    "##exe6"
   ]
  },
  {
   "cell_type": "code",
   "execution_count": 35,
   "id": "0f27734d",
   "metadata": {},
   "outputs": [
    {
     "name": "stdout",
     "output_type": "stream",
     "text": [
      "['name1', 'name2']\n"
     ]
    }
   ],
   "source": [
    "import json\n",
    "with open(\"file.txt\",\"r\") as f:\n",
    "    data = json.load(f)\n",
    "dataList = [item.get('name') for item in data]\n",
    "print(dataList)"
   ]
  },
  {
   "cell_type": "markdown",
   "id": "c1854475",
   "metadata": {},
   "source": [
    "##exe7"
   ]
  },
  {
   "cell_type": "code",
   "execution_count": 36,
   "id": "8a830605",
   "metadata": {},
   "outputs": [],
   "source": [
    "import string, os\n",
    "\n",
    "for letter in string.ascii_uppercase:\n",
    "   with open(letter + \".txt\", \"w\") as f:\n",
    "       f.writelines(letter)"
   ]
  },
  {
   "cell_type": "markdown",
   "id": "a7385753",
   "metadata": {},
   "source": [
    "##exe8"
   ]
  },
  {
   "cell_type": "code",
   "execution_count": 37,
   "id": "e34fcc6c",
   "metadata": {},
   "outputs": [
    {
     "name": "stdout",
     "output_type": "stream",
     "text": [
      "{\n",
      "  \"key1\" = \"value1\",\n",
      "  \"key2\" = \"value2\"\n",
      "}\n"
     ]
    }
   ],
   "source": [
    "sampleJson = {\"key1\": \"value1\", \"key2\": \"value2\"}\n",
    "print(json.dumps(sampleJson, indent=2,separators=(\",\", \" = \")))"
   ]
  },
  {
   "cell_type": "code",
   "execution_count": null,
   "id": "207cd6d2",
   "metadata": {},
   "outputs": [],
   "source": []
  }
 ],
 "metadata": {
  "kernelspec": {
   "display_name": "Python 3 (ipykernel)",
   "language": "python",
   "name": "python3"
  },
  "language_info": {
   "codemirror_mode": {
    "name": "ipython",
    "version": 3
   },
   "file_extension": ".py",
   "mimetype": "text/x-python",
   "name": "python",
   "nbconvert_exporter": "python",
   "pygments_lexer": "ipython3",
   "version": "3.11.5"
  }
 },
 "nbformat": 4,
 "nbformat_minor": 5
}
